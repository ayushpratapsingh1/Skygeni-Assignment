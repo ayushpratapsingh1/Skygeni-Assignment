{
  "nbformat": 4,
  "nbformat_minor": 0,
  "metadata": {
    "colab": {
      "provenance": [],
      "mount_file_id": "1VJsfGd4mc6zLBNgCZdb2TFg_dKPglknY",
      "authorship_tag": "ABX9TyM3cu8T/q2q/j8Hy/KxBG/F",
      "include_colab_link": true
    },
    "kernelspec": {
      "name": "python3",
      "display_name": "Python 3"
    },
    "language_info": {
      "name": "python"
    }
  },
  "cells": [
    {
      "cell_type": "markdown",
      "metadata": {
        "id": "view-in-github",
        "colab_type": "text"
      },
      "source": [
        "<a href=\"https://colab.research.google.com/github/ayushpratapsingh1/Skygeni-Project/blob/main/Solutions.ipynb\" target=\"_parent\"><img src=\"https://colab.research.google.com/assets/colab-badge.svg\" alt=\"Open In Colab\"/></a>"
      ]
    },
    {
      "cell_type": "markdown",
      "source": [
        "### 📊 Data Analysis Overview\n",
        "\n",
        "In this analysis, I explored multiple datasets related to subscription details, payment records, financial indicators, and client industries. My objective was to extract valuable insights that could help the organization better understand client behavior, renewal trends, payment patterns, and the influence of economic factors like inflation. I carried out data cleaning, filtering, and performed various calculations to address key business questions and uncover actionable trends.\n"
      ],
      "metadata": {
        "id": "weMAf_Sh30hJ"
      }
    },
    {
      "cell_type": "code",
      "source": [
        "import pandas as pd\n",
        "import numpy as np\n",
        "import matplotlib.pyplot as plt\n",
        "import seaborn as sns\n",
        "from datetime import datetime\n",
        "\n",
        "# Loading all datasets\n",
        "subscription = pd.read_csv('Datasets/subscription_information.csv', parse_dates=['start_date', 'end_date'])\n",
        "payment = pd.read_csv('Datasets/payment_information.csv', parse_dates=['payment_date'])\n",
        "financial = pd.read_csv('Datasets/finanical_information.csv', parse_dates=['start_date', 'end_date'])\n",
        "industry = pd.read_csv('Datasets/industry_client_details.csv')\n",
        "\n",
        "print(subscription.head())\n",
        "print(payment.head())\n",
        "print(financial.head())\n",
        "print(industry.head())\n"
      ],
      "metadata": {
        "id": "YY6He5zKTkmB",
        "colab": {
          "base_uri": "https://localhost:8080/"
        },
        "outputId": "4fdf4b2d-b1d4-49f1-81af-951a0e9b98b4"
      },
      "execution_count": 26,
      "outputs": [
        {
          "output_type": "stream",
          "name": "stdout",
          "text": [
            "    client_id subscription_type start_date   end_date  renewed\n",
            "0  1131383004            Yearly 2020-11-11 2021-11-11    False\n",
            "1  4309371709           Monthly 2021-05-24 2021-06-23     True\n",
            "2  3183675157            Yearly 2021-12-25 2022-12-25     True\n",
            "3  5371694837           Monthly 2020-03-14 2020-04-13     True\n",
            "4  5157113076           Monthly 2019-11-07 2019-12-07    False\n",
            "    client_id payment_date  amount_paid payment_method\n",
            "0  6292156167   2019-09-16        447.0  Bank Transfer\n",
            "1  7462725203   2018-05-21        379.7  Bank Transfer\n",
            "2  4698004907   2021-09-11        435.1          Check\n",
            "3  3510240337   2020-12-07        413.1          Check\n",
            "4  7501599785   2019-03-04         61.1  Bank Transfer\n",
            "   Unnamed: 0 start_date   end_date  inflation_rate  gdp_growth_rate\n",
            "0           0 2018-01-01 2018-03-31            5.77             3.51\n",
            "1           1 2018-04-01 2018-06-30            1.17             2.15\n",
            "2           2 2018-07-01 2018-09-30            1.56             1.82\n",
            "3           3 2018-10-01 2018-12-31            2.78             2.43\n",
            "4           4 2019-01-01 2019-03-31            6.91             3.44\n",
            "    client_id company_size         industry   location\n",
            "0  4280387012        Large  Finance Lending     Mumbai\n",
            "1  2095513148        Small  Finance Lending    Chennai\n",
            "2  7225516707       Medium  Finance Lending  New Delhi\n",
            "3  8093537819        Large      Block Chain     Mumbai\n",
            "4  4387541014       Medium      Hyper Local   Banglore\n"
          ]
        }
      ]
    },
    {
      "cell_type": "markdown",
      "source": [
        "### Data Cleaning Process\n",
        "\n",
        "Upon reviewing the dataset, I noticed that the date formats were inconsistent, which could lead to potential errors during analysis. To avoid such issues, I decided to standardize the date formats across the dataset. After conducting the analysis, it became evident that a more thorough data cleaning process is required to ensure the data is accurate and reliable.\n"
      ],
      "metadata": {
        "id": "40Gxm6Ho2Zr-"
      }
    },
    {
      "cell_type": "code",
      "source": [
        "\n",
        "# Cleaning subscription_information.csv\n",
        "subscription['renewed'] = subscription['renewed'].astype(bool)\n",
        "subscription['start_date'] = pd.to_datetime(subscription['start_date'], errors='coerce')\n",
        "subscription['end_date'] = pd.to_datetime(subscription['end_date'], errors='coerce')\n",
        "\n",
        "# Cleaning payment_information.csv\n",
        "payment['payment_date'] = pd.to_datetime(payment['payment_date'], errors='coerce')\n",
        "payment['amount_paid'] = pd.to_numeric(payment['amount_paid'], errors='coerce')\n",
        "\n",
        "# Cleaning financial_information.csv\n",
        "financial = financial.drop(columns=['Unnamed: 0'], errors='ignore')\n",
        "financial['start_date'] = pd.to_datetime(financial['start_date'], errors='coerce')\n",
        "financial['end_date'] = pd.to_datetime(financial['end_date'], errors='coerce')\n",
        "\n",
        "# Cleaning industrial.csv\n",
        "industry['client_id'] = pd.to_numeric(industry['client_id'], errors='coerce')\n",
        "\n",
        "# Cleaning client_id fields across datasets to ensure proper joining\n",
        "subscription['client_id'] = pd.to_numeric(subscription['client_id'], errors='coerce')\n",
        "payment['client_id'] = pd.to_numeric(payment['client_id'], errors='coerce')\n",
        "\n",
        "# Drop null client_ids if any after conversion\n",
        "subscription.dropna(subset=['client_id'], inplace=True)\n",
        "payment.dropna(subset=['client_id'], inplace=True)\n",
        "industry.dropna(subset=['client_id'], inplace=True)\n",
        "print(subscription.head())\n",
        "print(payment.head())\n",
        "print(financial.head())\n",
        "print(industry.head())"
      ],
      "metadata": {
        "colab": {
          "base_uri": "https://localhost:8080/"
        },
        "id": "Jf6yE7R5T3gX",
        "outputId": "56d8902a-ced4-40e7-fd42-b0ad028c192c"
      },
      "execution_count": 27,
      "outputs": [
        {
          "output_type": "stream",
          "name": "stdout",
          "text": [
            "    client_id subscription_type start_date   end_date  renewed\n",
            "0  1131383004            Yearly 2020-11-11 2021-11-11    False\n",
            "1  4309371709           Monthly 2021-05-24 2021-06-23     True\n",
            "2  3183675157            Yearly 2021-12-25 2022-12-25     True\n",
            "3  5371694837           Monthly 2020-03-14 2020-04-13     True\n",
            "4  5157113076           Monthly 2019-11-07 2019-12-07    False\n",
            "    client_id payment_date  amount_paid payment_method\n",
            "0  6292156167   2019-09-16        447.0  Bank Transfer\n",
            "1  7462725203   2018-05-21        379.7  Bank Transfer\n",
            "2  4698004907   2021-09-11        435.1          Check\n",
            "3  3510240337   2020-12-07        413.1          Check\n",
            "4  7501599785   2019-03-04         61.1  Bank Transfer\n",
            "  start_date   end_date  inflation_rate  gdp_growth_rate\n",
            "0 2018-01-01 2018-03-31            5.77             3.51\n",
            "1 2018-04-01 2018-06-30            1.17             2.15\n",
            "2 2018-07-01 2018-09-30            1.56             1.82\n",
            "3 2018-10-01 2018-12-31            2.78             2.43\n",
            "4 2019-01-01 2019-03-31            6.91             3.44\n",
            "    client_id company_size         industry   location\n",
            "0  4280387012        Large  Finance Lending     Mumbai\n",
            "1  2095513148        Small  Finance Lending    Chennai\n",
            "2  7225516707       Medium  Finance Lending  New Delhi\n",
            "3  8093537819        Large      Block Chain     Mumbai\n",
            "4  4387541014       Medium      Hyper Local   Banglore\n"
          ]
        }
      ]
    },
    {
      "cell_type": "markdown",
      "source": [
        "### 1. How many Finance Lending and Blockchain clients does the organization have?\n",
        "I am filtering the dataset to identify how many clients belong to the \"Finance Lending\" and \"Blockchain\" industries in order to understand the distribution of clients across these sectors.\n"
      ],
      "metadata": {
        "id": "WXN72vKi3EDh"
      }
    },
    {
      "cell_type": "code",
      "execution_count": 28,
      "metadata": {
        "id": "HgwUWebTK7Wh",
        "colab": {
          "base_uri": "https://localhost:8080/"
        },
        "outputId": "6788cd68-5bd0-4071-eb65-44a35e1db337"
      },
      "outputs": [
        {
          "output_type": "stream",
          "name": "stdout",
          "text": [
            "Number of clients:\n",
            " industry\n",
            "Block Chain        25\n",
            "Finance Lending    22\n",
            "Name: count, dtype: int64\n"
          ]
        }
      ],
      "source": [
        "finance_blockchain = industry[industry['industry'].isin(['Finance Lending', 'Block Chain'])]\n",
        "counts = finance_blockchain['industry'].value_counts()\n",
        "print(\"Number of clients:\\n\", counts)\n",
        "\n",
        "# The organization has more clients in Finance Lending than in Block Chain,\n",
        "# indicating a stronger presence in traditional financial sectors.\n"
      ]
    },
    {
      "cell_type": "markdown",
      "source": [
        "### 2. Which industry in the organization has the highest renewal rate?\n",
        "I am grouping the dataset by industry and calculating the renewal rate for each, then identifying the industry with the highest renewal rate to understand where clients are most likely to renew their subscriptions.\n"
      ],
      "metadata": {
        "id": "K5OTQt2O3OIa"
      }
    },
    {
      "cell_type": "code",
      "source": [
        "# Merging subscription data with industry\n",
        "sub_industry = subscription.merge(industry, on='client_id', how='left')\n",
        "\n",
        "# Grouping by industry and calculating renewal rate\n",
        "renewal_rate = sub_industry.groupby('industry')['renewed'].mean().sort_values(ascending=False)\n",
        "print(\"Industry-wise renewal rate:\\n\", renewal_rate)\n",
        "\n",
        "# Clients from the Gaming industry are the most loyal, with a 72% renewal rate."
      ],
      "metadata": {
        "colab": {
          "base_uri": "https://localhost:8080/"
        },
        "id": "mocOsyPWT-qz",
        "outputId": "a82a83a6-da91-4a01-ba07-6bcfbf316bc1"
      },
      "execution_count": 29,
      "outputs": [
        {
          "output_type": "stream",
          "name": "stdout",
          "text": [
            "Industry-wise renewal rate:\n",
            " industry\n",
            "Gaming             0.727273\n",
            "AI                 0.636364\n",
            "Finance Lending    0.545455\n",
            "Hyper Local        0.450000\n",
            "Block Chain        0.440000\n",
            "Name: renewed, dtype: float64\n"
          ]
        }
      ]
    },
    {
      "cell_type": "markdown",
      "source": [
        "### 3. What was the average inflation rate when their subscriptions were renewed?\n",
        "I am matching the subscription renewal dates with the relevant financial quarters, extracting the inflation rate for each renewal period, and calculating the average inflation rate across all renewed subscriptions to understand the economic conditions during these renewals.\n"
      ],
      "metadata": {
        "id": "mvY_doMp3RjP"
      }
    },
    {
      "cell_type": "code",
      "source": [
        "renewed_subs = subscription[subscription['renewed'] == True]\n",
        "\n",
        "inflation_list = []\n",
        "\n",
        "for date in renewed_subs['end_date']:\n",
        "    for i, row in financial.iterrows():\n",
        "        if row['start_date'] <= date <= row['end_date']:\n",
        "            inflation_list.append(row['inflation_rate'])\n",
        "            break\n",
        "    else:\n",
        "        inflation_list.append(np.nan)\n",
        "\n",
        "renewed_subs['inflation_rate'] = inflation_list\n",
        "\n",
        "average_inflation = renewed_subs['inflation_rate'].mean()\n",
        "print(\"Average Inflation Rate during renewal periods:\", round(average_inflation, 2), \"%\")\n"
      ],
      "metadata": {
        "colab": {
          "base_uri": "https://localhost:8080/"
        },
        "id": "Vtyl2Gy_T-Xd",
        "outputId": "9b5d1085-46d6-4253-c88d-30548a1fd756"
      },
      "execution_count": 33,
      "outputs": [
        {
          "output_type": "stream",
          "name": "stdout",
          "text": [
            "Average Inflation Rate during renewal periods: 4.31 %\n"
          ]
        },
        {
          "output_type": "stream",
          "name": "stderr",
          "text": [
            "<ipython-input-33-f63bc401725a>:13: SettingWithCopyWarning: \n",
            "A value is trying to be set on a copy of a slice from a DataFrame.\n",
            "Try using .loc[row_indexer,col_indexer] = value instead\n",
            "\n",
            "See the caveats in the documentation: https://pandas.pydata.org/pandas-docs/stable/user_guide/indexing.html#returning-a-view-versus-a-copy\n",
            "  renewed_subs['inflation_rate'] = inflation_list\n"
          ]
        }
      ]
    },
    {
      "cell_type": "markdown",
      "source": [
        "### 4. What is the median amount paid each year for all payment methods?\n",
        "I am calculating the median payment amount for each year across different payment methods, which allows to understand payment trends and potential changes in pricing or user behavior over time.\n"
      ],
      "metadata": {
        "id": "lATxFVVR3UuS"
      }
    },
    {
      "cell_type": "code",
      "source": [
        "payment['year'] = payment['payment_date'].dt.year\n",
        "\n",
        "median_by_year = payment.groupby('year')['amount_paid'].median()\n",
        "print(\"Median amount paid per year:\\n\", median_by_year)\n",
        "\n",
        "# The median payment amount varied each year, peaking in 2019, possibly\n",
        "# reflecting changes in subscription pricing or user behavior."
      ],
      "metadata": {
        "colab": {
          "base_uri": "https://localhost:8080/"
        },
        "id": "xXR2x_aSuUKT",
        "outputId": "6cd8d80f-3150-4394-94eb-11a6249e9bc6"
      },
      "execution_count": 31,
      "outputs": [
        {
          "output_type": "stream",
          "name": "stdout",
          "text": [
            "Median amount paid per year:\n",
            " year\n",
            "2018    235.7\n",
            "2019    360.9\n",
            "2020    284.5\n",
            "2021    306.8\n",
            "2022    288.0\n",
            "Name: amount_paid, dtype: float64\n"
          ]
        }
      ]
    },
    {
      "cell_type": "markdown",
      "source": [
        "### Diagrammatic Representation of the Median Payment Amount for Each Year Using a Line Chart\n",
        "\n",
        "I have created a line chart to visually represent the median payment amount for each year, which will help to understand trends and fluctuations in payments over time across all payment methods.\n"
      ],
      "metadata": {
        "id": "06Lg21kN4CcT"
      }
    },
    {
      "cell_type": "code",
      "source": [
        "plt.figure(figsize=(10,6))\n",
        "sns.lineplot(data=median_by_year)\n",
        "plt.title('Median Payment Amount per Year')\n",
        "plt.xlabel('Year')\n",
        "plt.ylabel('Median Amount')\n",
        "plt.grid(True)\n",
        "plt.tight_layout()\n",
        "plt.savefig(\"median_payment_trend.png\")  # Save the plot\n",
        "plt.show()"
      ],
      "metadata": {
        "colab": {
          "base_uri": "https://localhost:8080/",
          "height": 607
        },
        "id": "3RHp-65Zz6hN",
        "outputId": "12a68567-d6cc-4d34-8a0e-059fc30c21ff"
      },
      "execution_count": 20,
      "outputs": [
        {
          "output_type": "display_data",
          "data": {
            "text/plain": [
              "<Figure size 1000x600 with 1 Axes>"
            ],
            "image/png": "[encoded data removed]"
          },
          "metadata": {}
        }
      ]
    },
    {
      "cell_type": "markdown",
      "source": [
        "### Results Inferred from above analysis\n",
        "\n",
        "- **Finance Lending** has more clients than **Block Chain**, indicating a stronger presence in traditional financial sectors.\n",
        "- Clients from the **Gaming industry** are the most loyal, with a **72% renewal rate**.\n",
        "- Subscriptions were typically renewed during periods of **moderate inflation**, averaging around **4.31%**.\n",
        "- The **median payment amount** varied each year, **peaking in 2019**, possibly due to changes in subscription pricing or user behavior.\n",
        "\n",
        "### Repository Link:\n",
        "- [Skygeni Project](https://github.com/ayushpratapsingh1/Skygeni-Project)\n",
        "\n",
        "### 📍 Connect with Me:\n",
        "- [GitHub](https://github.com/ayushpratapsingh1)\n",
        "- [LinkedIn](https://www.linkedin.com/in/ayushpratapsingh1)\n"
      ],
      "metadata": {
        "id": "4-ilhgIM1Ye_"
      }
    }
  ]
}